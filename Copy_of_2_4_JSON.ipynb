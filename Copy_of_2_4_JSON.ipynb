{
  "nbformat": 4,
  "nbformat_minor": 0,
  "metadata": {
    "colab": {
      "name": "Copy of 2.4 JSON.ipynb",
      "version": "0.3.2",
      "provenance": [],
      "include_colab_link": true
    },
    "kernelspec": {
      "name": "python3",
      "display_name": "Python 3"
    }
  },
  "cells": [
    {
      "cell_type": "markdown",
      "metadata": {
        "id": "view-in-github",
        "colab_type": "text"
      },
      "source": [
        "<a href=\"https://colab.research.google.com/github/Olumuyiwa19/Data-Science--Cheat-Sheet/blob/master/Copy_of_2_4_JSON.ipynb\" target=\"_parent\"><img src=\"https://colab.research.google.com/assets/colab-badge.svg\" alt=\"Open In Colab\"/></a>"
      ]
    },
    {
      "cell_type": "markdown",
      "metadata": {
        "id": "vu-31oL1sKdm",
        "colab_type": "text"
      },
      "source": [
        "# JSON in Python\n",
        "\n",
        "This notebook demonstrates reading JSON data from files into lists, dictionaries, and dataframes in Python."
      ]
    },
    {
      "cell_type": "markdown",
      "metadata": {
        "id": "2uhhS_ChsKdo",
        "colab_type": "text"
      },
      "source": [
        "Notice the Python version running on the cluster."
      ]
    },
    {
      "cell_type": "code",
      "metadata": {
        "id": "DYTHJOdSsKdp",
        "colab_type": "code",
        "outputId": "238c8e24-c537-429f-8962-179d1defc320",
        "colab": {
          "base_uri": "https://localhost:8080/",
          "height": 34
        }
      },
      "source": [
        "import sys\n",
        "sys.version"
      ],
      "execution_count": 0,
      "outputs": [
        {
          "output_type": "execute_result",
          "data": {
            "text/plain": [
              "'3.6.8 (default, Jan 14 2019, 11:02:34) \\n[GCC 8.0.1 20180414 (experimental) [trunk revision 259383]]'"
            ]
          },
          "metadata": {
            "tags": []
          },
          "execution_count": 1
        }
      ]
    },
    {
      "cell_type": "markdown",
      "metadata": {
        "id": "t6NDtsl8sKdu",
        "colab_type": "text"
      },
      "source": [
        "## Contents \n",
        "1. Setup\n",
        "2. List example\n",
        "1. Dictionary example\n",
        "3. Mixed examples\n",
        "1. Realistic examples"
      ]
    },
    {
      "cell_type": "markdown",
      "metadata": {
        "id": "mtIsHTdCsKdu",
        "colab_type": "text"
      },
      "source": [
        "## 1. Setup"
      ]
    },
    {
      "cell_type": "code",
      "metadata": {
        "id": "bMB0a1dauI8z",
        "colab_type": "code",
        "outputId": "f52dc889-72d9-4e96-bae3-9b701cdac5ec",
        "colab": {
          "base_uri": "https://localhost:8080/",
          "height": 102
        }
      },
      "source": [
        "%pip install jsonlines"
      ],
      "execution_count": 0,
      "outputs": [
        {
          "output_type": "stream",
          "text": [
            "Collecting jsonlines\n",
            "  Downloading https://files.pythonhosted.org/packages/4f/9a/ab96291470e305504aa4b7a2e0ec132e930da89eb3ca7a82fbe03167c131/jsonlines-1.2.0-py2.py3-none-any.whl\n",
            "Requirement already satisfied: six in /usr/local/lib/python3.6/dist-packages (from jsonlines) (1.12.0)\n",
            "Installing collected packages: jsonlines\n",
            "Successfully installed jsonlines-1.2.0\n"
          ],
          "name": "stdout"
        }
      ]
    },
    {
      "cell_type": "markdown",
      "metadata": {
        "id": "KjjvGuBTsKdv",
        "colab_type": "text"
      },
      "source": [
        "Load the `pandas` Python library."
      ]
    },
    {
      "cell_type": "code",
      "metadata": {
        "id": "V4Tsb-tXsKdv",
        "colab_type": "code",
        "outputId": "7f2e523f-b3e6-4c1a-f7f4-744f98d00883",
        "colab": {
          "base_uri": "https://localhost:8080/",
          "height": 34
        }
      },
      "source": [
        "import pandas as pd\n",
        "pd.__version__"
      ],
      "execution_count": 0,
      "outputs": [
        {
          "output_type": "execute_result",
          "data": {
            "text/plain": [
              "'0.24.2'"
            ]
          },
          "metadata": {
            "tags": []
          },
          "execution_count": 3
        }
      ]
    },
    {
      "cell_type": "markdown",
      "metadata": {
        "id": "Ce4bSThFsKdy",
        "colab_type": "text"
      },
      "source": [
        "In this notebook we read data from some of these JSON files."
      ]
    },
    {
      "cell_type": "code",
      "metadata": {
        "id": "A2IkavYmsS2L",
        "colab_type": "code",
        "outputId": "45577692-964c-4995-9d58-6462aac69fa3",
        "colab": {
          "base_uri": "https://localhost:8080/",
          "height": 34
        }
      },
      "source": [
        "%%sh\n",
        "git clone https://github.com/datalab-datasets/file-samples.git"
      ],
      "execution_count": 0,
      "outputs": [
        {
          "output_type": "stream",
          "text": [
            "Cloning into 'file-samples'...\n"
          ],
          "name": "stderr"
        }
      ]
    },
    {
      "cell_type": "code",
      "metadata": {
        "id": "b9unxMxisKdy",
        "colab_type": "code",
        "outputId": "bdd1a000-2681-49b9-e3c1-37e9a23c21ce",
        "colab": {
          "base_uri": "https://localhost:8080/",
          "height": 221
        }
      },
      "source": [
        "%ls /content/file-samples/*.json"
      ],
      "execution_count": 0,
      "outputs": [
        {
          "output_type": "stream",
          "text": [
            "/content/file-samples/dict_of_lists.json\n",
            "/content/file-samples/each_line.json\n",
            "/content/file-samples/enron.json\n",
            "/content/file-samples/list_of_dicts.json\n",
            "/content/file-samples/one_dictionary.json\n",
            "/content/file-samples/one_list.json\n",
            "/content/file-samples/one_list_with_metadata.json\n",
            "/content/file-samples/simple_dict.json\n",
            "/content/file-samples/simple_list.json\n",
            "/content/file-samples/stocks.json\n",
            "/content/file-samples/world_bank.json\n",
            "/content/file-samples/zips.json\n"
          ],
          "name": "stdout"
        }
      ]
    },
    {
      "cell_type": "markdown",
      "metadata": {
        "id": "3MglBipwsKd7",
        "colab_type": "text"
      },
      "source": [
        "The contents of individual files can be displayed with the `head` shell command. \n",
        "\n",
        "For example, the following command displays the first three lines of the `one_list.json` file. Notice the parameter `-n 3`.\n",
        "\n",
        "The `%sh` magic at the beginning of the code cell indicates that the cell contains shell commands."
      ]
    },
    {
      "cell_type": "code",
      "metadata": {
        "id": "fjOjKZs0sKd7",
        "colab_type": "code",
        "outputId": "353f18ba-dc89-449d-851c-329ed96900a2",
        "colab": {
          "base_uri": "https://localhost:8080/",
          "height": 68
        }
      },
      "source": [
        "%%sh \n",
        "head -n 3 /content/file-samples/one_list.json"
      ],
      "execution_count": 0,
      "outputs": [
        {
          "output_type": "stream",
          "text": [
            "[{ \t\n",
            "\t\"id\": \"ae4d9000001\", \n",
            "\t\"product_name\": \"sildenafil citrate\", \n"
          ],
          "name": "stdout"
        }
      ]
    },
    {
      "cell_type": "markdown",
      "metadata": {
        "id": "xjXUjzmosKd-",
        "colab_type": "text"
      },
      "source": [
        "The contents of files are often read into Python using the `open` function. (An example is three cells below.)\n",
        "- The first argument to this function is the full path of the file. \n",
        "- The second argument is the mode with which to read the file. An `r` indicates the file will be read. \n",
        "- The function returns a file object that can be used to read (in this case) from the indicated file.\n",
        "- See the documentation https://docs.python.org/3.5/library/functions.html#open for details."
      ]
    },
    {
      "cell_type": "markdown",
      "metadata": {
        "id": "0Xux4e4nsKd_",
        "colab_type": "text"
      },
      "source": [
        "The `with` command (in the example two cells below) is called a _context manager_.\n",
        "\n",
        "In the cell below (and in many cells below that), the `with` command opens the file and stores the _file object_, returned by the `open` function, in the `infile` variable. All indented commands that follow the `with` command can access this variable and the contents of the file, but when the indentation stops then the file object is deleted and it is no longer possible to read from the file. \n",
        "\n",
        "The basic reason to use the `with` and `open` statements like this is to automatically close the file after the indented commands are run.\n",
        "There are more complicated reasons to use them, but they're not that important (to know) if you __always__ use it to open files for reading or writing."
      ]
    },
    {
      "cell_type": "markdown",
      "metadata": {
        "id": "zXpSCeHLsKd_",
        "colab_type": "text"
      },
      "source": [
        "The following code cell:\n",
        "1. opens the `simple_list.json` file for reading\n",
        "2. loads the contents of the file into a list (using the `load` function from the `json` module)\n",
        "3. stores this list in `list_from_file` \n",
        "4. displays the list (as it is the last command of the cell)"
      ]
    },
    {
      "cell_type": "code",
      "metadata": {
        "id": "zZSgkaz5sKeA",
        "colab_type": "code",
        "outputId": "26b63b4e-c815-451e-93a2-46ae54d7a3a1",
        "colab": {
          "base_uri": "https://localhost:8080/",
          "height": 34
        }
      },
      "source": [
        "import json\n",
        "with open('/content/file-samples/simple_list.json', 'r') as infile:\n",
        "  list_from_file = json.load(infile)\n",
        "\n",
        "list_from_file"
      ],
      "execution_count": 0,
      "outputs": [
        {
          "output_type": "execute_result",
          "data": {
            "text/plain": [
              "[10, 20, 30]"
            ]
          },
          "metadata": {
            "tags": []
          },
          "execution_count": 8
        }
      ]
    },
    {
      "cell_type": "markdown",
      "metadata": {
        "id": "Nx-MySZnsKeD",
        "colab_type": "text"
      },
      "source": [
        "Notice the resulting list (above) corresponds exactly to the characters from the file (below)."
      ]
    },
    {
      "cell_type": "code",
      "metadata": {
        "id": "OPKyqqrIsKeE",
        "colab_type": "code",
        "outputId": "fddd1562-e140-4b28-ef1e-2eca9882051d",
        "colab": {
          "base_uri": "https://localhost:8080/",
          "height": 34
        }
      },
      "source": [
        "%%sh \n",
        "head -n 3 /content/file-samples/simple_list.json"
      ],
      "execution_count": 0,
      "outputs": [
        {
          "output_type": "stream",
          "text": [
            "[10, 20, 30]\n"
          ],
          "name": "stdout"
        }
      ]
    },
    {
      "cell_type": "markdown",
      "metadata": {
        "id": "YGwMyhW8sKeJ",
        "colab_type": "text"
      },
      "source": [
        "The remaining sections of this notebook demonstrate the reading of JSON text (from files) into Python lists. dictionaries, and tables."
      ]
    },
    {
      "cell_type": "markdown",
      "metadata": {
        "id": "hh6ZcpQpsKeK",
        "colab_type": "text"
      },
      "source": [
        "## 2. List example"
      ]
    },
    {
      "cell_type": "markdown",
      "metadata": {
        "id": "ggoczd3IsKeK",
        "colab_type": "text"
      },
      "source": [
        "The `json` library provides Python functions to read and write JSON text. \n",
        "\n",
        "The `loads` function:\n",
        "- expects its argument to be a string of JSON data and \n",
        "- returns the Python object (usually a list or dictionary) that corresponds to the JSON data"
      ]
    },
    {
      "cell_type": "code",
      "metadata": {
        "id": "zY8sj1CUsKeL",
        "colab_type": "code",
        "outputId": "1177f885-e92c-407a-da1b-a0fa0b922440",
        "colab": {
          "base_uri": "https://localhost:8080/",
          "height": 34
        }
      },
      "source": [
        "import json\n",
        "my_json = json.loads('[\"hello\",\"goodbye\",777,null]')\n",
        "my_json"
      ],
      "execution_count": 0,
      "outputs": [
        {
          "output_type": "execute_result",
          "data": {
            "text/plain": [
              "['hello', 'goodbye', 777, None]"
            ]
          },
          "metadata": {
            "tags": []
          },
          "execution_count": 13
        }
      ]
    },
    {
      "cell_type": "markdown",
      "metadata": {
        "id": "33aoqdu3sKeO",
        "colab_type": "text"
      },
      "source": [
        "The `null` JSON value is often used to indicate missing data. Notice that this value corresponds to the `None` value in Python."
      ]
    },
    {
      "cell_type": "markdown",
      "metadata": {
        "id": "9B3yCOzasKeO",
        "colab_type": "text"
      },
      "source": [
        "The JSON text for the next example comes from the file `simple_list.json`, which is displayed below. \n",
        "\n",
        "This is the same example as above in the Setup section. The following command displays the contents of this file (which only contains one line)."
      ]
    },
    {
      "cell_type": "code",
      "metadata": {
        "id": "NZXeiMGYsKeP",
        "colab_type": "code",
        "outputId": "8f31b362-b02d-47cd-e0a8-b347ec8b1942",
        "colab": {
          "base_uri": "https://localhost:8080/",
          "height": 34
        }
      },
      "source": [
        "%%sh \n",
        "head -n 3 /content/file-samples/simple_list.json"
      ],
      "execution_count": 0,
      "outputs": [
        {
          "output_type": "stream",
          "text": [
            "[10, 20, 30]\n"
          ],
          "name": "stdout"
        }
      ]
    },
    {
      "cell_type": "markdown",
      "metadata": {
        "id": "gnqzXB7asKeR",
        "colab_type": "text"
      },
      "source": [
        "The following code reads the contents of the file `simple_list.json` into a Python list."
      ]
    },
    {
      "cell_type": "code",
      "metadata": {
        "id": "0s8gFmRPsKeR",
        "colab_type": "code",
        "outputId": "503a2955-7792-4504-c848-ccf3d27ab6e1",
        "colab": {
          "base_uri": "https://localhost:8080/",
          "height": 34
        }
      },
      "source": [
        "import json\n",
        "with open(\"/content/file-samples/simple_list.json\", 'r') as infile:\n",
        "  list_from_file = json.load(infile)\n",
        "  \n",
        "list_from_file"
      ],
      "execution_count": 0,
      "outputs": [
        {
          "output_type": "execute_result",
          "data": {
            "text/plain": [
              "[10, 20, 30]"
            ]
          },
          "metadata": {
            "tags": []
          },
          "execution_count": 15
        }
      ]
    },
    {
      "cell_type": "markdown",
      "metadata": {
        "id": "P627J4QPsKeT",
        "colab_type": "text"
      },
      "source": [
        "The following code demonstrates that the `load` function does in fact return a list."
      ]
    },
    {
      "cell_type": "code",
      "metadata": {
        "id": "EKordR6JsKeU",
        "colab_type": "code",
        "outputId": "9dec4db0-cdd0-4eac-e4f6-bd4fb8e3d206",
        "colab": {
          "base_uri": "https://localhost:8080/",
          "height": 34
        }
      },
      "source": [
        "type(list_from_file), list_from_file[-1]"
      ],
      "execution_count": 0,
      "outputs": [
        {
          "output_type": "execute_result",
          "data": {
            "text/plain": [
              "(list, 30)"
            ]
          },
          "metadata": {
            "tags": []
          },
          "execution_count": 16
        }
      ]
    },
    {
      "cell_type": "markdown",
      "metadata": {
        "id": "-kqkNEagsKeX",
        "colab_type": "text"
      },
      "source": [
        "## 2. Dictionary example"
      ]
    },
    {
      "cell_type": "markdown",
      "metadata": {
        "id": "bbaspBwNsKeY",
        "colab_type": "text"
      },
      "source": [
        "The JSON text for this example comes from the file `simple_dict.json`, which is displayed below."
      ]
    },
    {
      "cell_type": "code",
      "metadata": {
        "id": "SaMuKmOnsKeY",
        "colab_type": "code",
        "outputId": "fbf58ea3-2ff4-4961-b1b6-9258ea77385c",
        "colab": {
          "base_uri": "https://localhost:8080/",
          "height": 34
        }
      },
      "source": [
        "%%sh \n",
        "cat /content/file-samples/simple_dict.json"
      ],
      "execution_count": 0,
      "outputs": [
        {
          "output_type": "stream",
          "text": [
            "{\"a\":1, \"b\":2, \"c\":3}\n"
          ],
          "name": "stdout"
        }
      ]
    },
    {
      "cell_type": "markdown",
      "metadata": {
        "id": "OPotih9usKed",
        "colab_type": "text"
      },
      "source": [
        "The following code reads the contents of the file `simple_dict.json` into a Python dictionary."
      ]
    },
    {
      "cell_type": "code",
      "metadata": {
        "id": "iDphGpEpsKed",
        "colab_type": "code",
        "outputId": "2ccf67ee-2671-4774-ccd2-f71d71c3dfae",
        "colab": {
          "base_uri": "https://localhost:8080/",
          "height": 34
        }
      },
      "source": [
        "import json\n",
        "with open(\"/content/file-samples/simple_dict.json\", 'r') as infile:\n",
        "  dict_from_file = json.load(infile)\n",
        "\n",
        "dict_from_file"
      ],
      "execution_count": 0,
      "outputs": [
        {
          "output_type": "execute_result",
          "data": {
            "text/plain": [
              "{'a': 1, 'b': 2, 'c': 3}"
            ]
          },
          "metadata": {
            "tags": []
          },
          "execution_count": 18
        }
      ]
    },
    {
      "cell_type": "code",
      "metadata": {
        "id": "QX3RvcKlsKeh",
        "colab_type": "code",
        "outputId": "01b3d218-cbca-43e9-91c8-b32b47d19b66",
        "colab": {
          "base_uri": "https://localhost:8080/",
          "height": 34
        }
      },
      "source": [
        "dict_from_file.get('b')"
      ],
      "execution_count": 0,
      "outputs": [
        {
          "output_type": "execute_result",
          "data": {
            "text/plain": [
              "2"
            ]
          },
          "metadata": {
            "tags": []
          },
          "execution_count": 19
        }
      ]
    },
    {
      "cell_type": "markdown",
      "metadata": {
        "id": "aFKVdnkMsKej",
        "colab_type": "text"
      },
      "source": [
        "## 3. Mixed examples"
      ]
    },
    {
      "cell_type": "markdown",
      "metadata": {
        "id": "YIh_QM7EsKek",
        "colab_type": "text"
      },
      "source": [
        "This section contains two examples, each in a section:\n",
        "1. Dictionary of lists\n",
        "1. List of dictionaries"
      ]
    },
    {
      "cell_type": "markdown",
      "metadata": {
        "id": "MXKu7OAHsKel",
        "colab_type": "text"
      },
      "source": [
        "### 3.1 Dictionary of lists"
      ]
    },
    {
      "cell_type": "code",
      "metadata": {
        "id": "lyHy_H9LsKen",
        "colab_type": "code",
        "outputId": "f5b1ca46-172d-4cbf-a36f-abdcf965b6f2",
        "colab": {
          "base_uri": "https://localhost:8080/",
          "height": 34
        }
      },
      "source": [
        "%%sh \n",
        "cat /content/file-samples/dict_of_lists.json"
      ],
      "execution_count": 0,
      "outputs": [
        {
          "output_type": "stream",
          "text": [
            "{\"a\":[1,2,3], \"b\":[4,5,6], \"c\":[7,8,9]}\n"
          ],
          "name": "stdout"
        }
      ]
    },
    {
      "cell_type": "markdown",
      "metadata": {
        "id": "naFJkBq5sKep",
        "colab_type": "text"
      },
      "source": [
        "The following code reads the contents of the file `dict_of_lists.json` into a Python dictionary."
      ]
    },
    {
      "cell_type": "code",
      "metadata": {
        "id": "XaWeG1CxsKep",
        "colab_type": "code",
        "outputId": "98e73efc-074c-4888-9a1e-97b4580a0e6f",
        "colab": {
          "base_uri": "https://localhost:8080/",
          "height": 34
        }
      },
      "source": [
        "with open(\"/content/file-samples/dict_of_lists.json\", 'r') as infile:\n",
        "  dict_from_file = json.load(infile)\n",
        "\n",
        "dict_from_file"
      ],
      "execution_count": 0,
      "outputs": [
        {
          "output_type": "execute_result",
          "data": {
            "text/plain": [
              "{'a': [1, 2, 3], 'b': [4, 5, 6], 'c': [7, 8, 9]}"
            ]
          },
          "metadata": {
            "tags": []
          },
          "execution_count": 21
        }
      ]
    },
    {
      "cell_type": "code",
      "metadata": {
        "id": "r7_RLrVMsKew",
        "colab_type": "code",
        "outputId": "6e560fbc-14de-4194-89d7-c914680d8274",
        "colab": {
          "base_uri": "https://localhost:8080/",
          "height": 34
        }
      },
      "source": [
        "type(dict_from_file)"
      ],
      "execution_count": 0,
      "outputs": [
        {
          "output_type": "execute_result",
          "data": {
            "text/plain": [
              "dict"
            ]
          },
          "metadata": {
            "tags": []
          },
          "execution_count": 22
        }
      ]
    },
    {
      "cell_type": "code",
      "metadata": {
        "id": "6VHnrWB1sKey",
        "colab_type": "code",
        "outputId": "40194632-4bb5-4b09-bf45-91c990f16f9b",
        "colab": {
          "base_uri": "https://localhost:8080/",
          "height": 34
        }
      },
      "source": [
        "dict_from_file.get('b')"
      ],
      "execution_count": 0,
      "outputs": [
        {
          "output_type": "execute_result",
          "data": {
            "text/plain": [
              "[4, 5, 6]"
            ]
          },
          "metadata": {
            "tags": []
          },
          "execution_count": 23
        }
      ]
    },
    {
      "cell_type": "code",
      "metadata": {
        "id": "aBLIugSasKe0",
        "colab_type": "code",
        "outputId": "a58d3d42-18e8-4def-9dc2-f429033edd16",
        "colab": {
          "base_uri": "https://localhost:8080/",
          "height": 34
        }
      },
      "source": [
        "dict_from_file.get('b')[2]"
      ],
      "execution_count": 0,
      "outputs": [
        {
          "output_type": "execute_result",
          "data": {
            "text/plain": [
              "6"
            ]
          },
          "metadata": {
            "tags": []
          },
          "execution_count": 24
        }
      ]
    },
    {
      "cell_type": "markdown",
      "metadata": {
        "id": "l6bPQSL4sKe3",
        "colab_type": "text"
      },
      "source": [
        "### 3.2 List of dictionaries"
      ]
    },
    {
      "cell_type": "code",
      "metadata": {
        "id": "uuW_45ypsKe9",
        "colab_type": "code",
        "outputId": "35b0126f-631a-43f5-a291-0a34ead4188f",
        "colab": {
          "base_uri": "https://localhost:8080/",
          "height": 34
        }
      },
      "source": [
        "%%sh \n",
        "cat /content/file-samples/list_of_dicts.json"
      ],
      "execution_count": 0,
      "outputs": [
        {
          "output_type": "stream",
          "text": [
            "[{\"a\":1, \"b\":2, \"c\":3}, {\"d\":4, \"e\":5, \"f\":6}]\n"
          ],
          "name": "stdout"
        }
      ]
    },
    {
      "cell_type": "markdown",
      "metadata": {
        "id": "m3xBftptsKe_",
        "colab_type": "text"
      },
      "source": [
        "The following code reads the contents of the file `list_of_dicts.json` into a Python list with items that are dictionaries."
      ]
    },
    {
      "cell_type": "code",
      "metadata": {
        "id": "C3xyXJV2sKfA",
        "colab_type": "code",
        "outputId": "39bf38b4-d99e-4fed-db31-8de5e2b7a49f",
        "colab": {
          "base_uri": "https://localhost:8080/",
          "height": 34
        }
      },
      "source": [
        "with open(\"/content/file-samples/list_of_dicts.json\", 'r') as infile:\n",
        "  dict_from_file = json.load(infile)\n",
        "\n",
        "dict_from_file"
      ],
      "execution_count": 0,
      "outputs": [
        {
          "output_type": "execute_result",
          "data": {
            "text/plain": [
              "[{'a': 1, 'b': 2, 'c': 3}, {'d': 4, 'e': 5, 'f': 6}]"
            ]
          },
          "metadata": {
            "tags": []
          },
          "execution_count": 26
        }
      ]
    },
    {
      "cell_type": "code",
      "metadata": {
        "id": "iBOdrolCsKfB",
        "colab_type": "code",
        "outputId": "9cedcfb4-1465-44ff-fce0-ee70b24d08b0",
        "colab": {
          "base_uri": "https://localhost:8080/",
          "height": 34
        }
      },
      "source": [
        "type(dict_from_file), dict_from_file[1]"
      ],
      "execution_count": 0,
      "outputs": [
        {
          "output_type": "execute_result",
          "data": {
            "text/plain": [
              "(list, {'d': 4, 'e': 5, 'f': 6})"
            ]
          },
          "metadata": {
            "tags": []
          },
          "execution_count": 27
        }
      ]
    },
    {
      "cell_type": "code",
      "metadata": {
        "id": "H-gtPjZDsKfD",
        "colab_type": "code",
        "outputId": "2f839e5c-de65-4a73-a5a8-4360c0d357ec",
        "colab": {
          "base_uri": "https://localhost:8080/",
          "height": 34
        }
      },
      "source": [
        "dict_from_file[1].get('d')"
      ],
      "execution_count": 0,
      "outputs": [
        {
          "output_type": "execute_result",
          "data": {
            "text/plain": [
              "4"
            ]
          },
          "metadata": {
            "tags": []
          },
          "execution_count": 28
        }
      ]
    },
    {
      "cell_type": "markdown",
      "metadata": {
        "id": "7p8NpixbsKfF",
        "colab_type": "text"
      },
      "source": [
        "## 4. More realistic examples"
      ]
    },
    {
      "cell_type": "markdown",
      "metadata": {
        "id": "G0s16Mk2sKfH",
        "colab_type": "text"
      },
      "source": [
        "The three subsections below demonstrate three ways in which tables are stored in JSON formatted files. \n",
        "These three ways are distinguished by the format of JSON data stored in the file to be read. \n",
        "The JSON data is: \n",
        "1. A list of dictionaries\n",
        "1. A dictionary contains a list of dictionaries\n",
        "1. Each line of the file is a dictionary\n",
        "\n",
        "In each of the three cases above, the dictionaries correspond to records of the table stored in the file."
      ]
    },
    {
      "cell_type": "markdown",
      "metadata": {
        "id": "dB-Ff3w4sKfI",
        "colab_type": "text"
      },
      "source": [
        "### 4.1 Dataset from a single list of JSON records"
      ]
    },
    {
      "cell_type": "code",
      "metadata": {
        "id": "6dkE514qsKfI",
        "colab_type": "code",
        "outputId": "a4507108-b2c6-40a4-bf2a-da4df84b6d0f",
        "colab": {
          "base_uri": "https://localhost:8080/",
          "height": 374
        }
      },
      "source": [
        "%%sh \n",
        "head -n 30 /content/file-samples/one_list.json"
      ],
      "execution_count": 0,
      "outputs": [
        {
          "output_type": "stream",
          "text": [
            "[{ \t\n",
            "\t\"id\": \"ae4d9000001\", \n",
            "\t\"product_name\": \"sildenafil citrate\", \n",
            "\t\"supplier\": \"Wisozk Inc\", \n",
            "\t\"quantity\": 261, \n",
            "\t\"unit_cost\": \"$10.47\" \n",
            "},\n",
            "{\n",
            "\t\"id\": \"ae4d9000002\", \n",
            "\t\"product_name\": \"Mountain Juniperus ashei\", \n",
            "\t\"supplier\": \"Keebler-Hilpert\", \n",
            "\t\"quantity\": 292, \n",
            "\t\"unit_cost\": \"$8.74\" \n",
            "},\n",
            "{\n",
            "\t\"id\": \"ae4d9000003\", \n",
            "\t\"product_name\": \"Dextromathorphan HBr\", \n",
            "\t\"supplier\": \"Schmitt-Weissnat\", \n",
            "\t\"quantity\": 211, \n",
            "\t\"unit_cost\": \"$20.53\" \n",
            "}]\n"
          ],
          "name": "stdout"
        }
      ]
    },
    {
      "cell_type": "markdown",
      "metadata": {
        "id": "_BTgCmLMsKfN",
        "colab_type": "text"
      },
      "source": [
        "The following code reads the contents of the file `one_list.json` into a Python list of dictionaries"
      ]
    },
    {
      "cell_type": "code",
      "metadata": {
        "id": "JifMIXHOsKfO",
        "colab_type": "code",
        "outputId": "ddf4c23d-d950-4d56-fc29-0633f932e56e",
        "colab": {
          "base_uri": "https://localhost:8080/",
          "height": 272
        }
      },
      "source": [
        "import json\n",
        "with open('/content/file-samples/one_list.json', 'r') as infile:\n",
        "  dict_from_file = json.load(infile)\n",
        "  \n",
        "dict_from_file"
      ],
      "execution_count": 0,
      "outputs": [
        {
          "output_type": "execute_result",
          "data": {
            "text/plain": [
              "[{'id': 'ae4d9000001',\n",
              "  'product_name': 'sildenafil citrate',\n",
              "  'quantity': 261,\n",
              "  'supplier': 'Wisozk Inc',\n",
              "  'unit_cost': '$10.47'},\n",
              " {'id': 'ae4d9000002',\n",
              "  'product_name': 'Mountain Juniperus ashei',\n",
              "  'quantity': 292,\n",
              "  'supplier': 'Keebler-Hilpert',\n",
              "  'unit_cost': '$8.74'},\n",
              " {'id': 'ae4d9000003',\n",
              "  'product_name': 'Dextromathorphan HBr',\n",
              "  'quantity': 211,\n",
              "  'supplier': 'Schmitt-Weissnat',\n",
              "  'unit_cost': '$20.53'}]"
            ]
          },
          "metadata": {
            "tags": []
          },
          "execution_count": 29
        }
      ]
    },
    {
      "cell_type": "markdown",
      "metadata": {
        "id": "8HBJKhbjsKfP",
        "colab_type": "text"
      },
      "source": [
        "The pandas `DataFrame` constructor can take as input a list of dictionaries. \n",
        "\n",
        "The keys of the dictionaries are interpreted as column names."
      ]
    },
    {
      "cell_type": "code",
      "metadata": {
        "id": "xURth24UsKfQ",
        "colab_type": "code",
        "outputId": "2d92ecf8-2ea2-45b7-fba7-59aade5e13b0",
        "colab": {
          "base_uri": "https://localhost:8080/",
          "height": 142
        }
      },
      "source": [
        "import pandas as pd \n",
        "pd.DataFrame(data=dict_from_file)\n",
        "New_Data = pd.DataFrame(data=dict_from_file)\n",
        "New_Data['seria_no'] = New_Data.index\n",
        "New_Data.head()"
      ],
      "execution_count": 0,
      "outputs": [
        {
          "output_type": "execute_result",
          "data": {
            "text/html": [
              "<div>\n",
              "<style scoped>\n",
              "    .dataframe tbody tr th:only-of-type {\n",
              "        vertical-align: middle;\n",
              "    }\n",
              "\n",
              "    .dataframe tbody tr th {\n",
              "        vertical-align: top;\n",
              "    }\n",
              "\n",
              "    .dataframe thead th {\n",
              "        text-align: right;\n",
              "    }\n",
              "</style>\n",
              "<table border=\"1\" class=\"dataframe\">\n",
              "  <thead>\n",
              "    <tr style=\"text-align: right;\">\n",
              "      <th></th>\n",
              "      <th>id</th>\n",
              "      <th>product_name</th>\n",
              "      <th>quantity</th>\n",
              "      <th>supplier</th>\n",
              "      <th>unit_cost</th>\n",
              "      <th>seria_no</th>\n",
              "    </tr>\n",
              "  </thead>\n",
              "  <tbody>\n",
              "    <tr>\n",
              "      <th>0</th>\n",
              "      <td>ae4d9000001</td>\n",
              "      <td>sildenafil citrate</td>\n",
              "      <td>261</td>\n",
              "      <td>Wisozk Inc</td>\n",
              "      <td>$10.47</td>\n",
              "      <td>0</td>\n",
              "    </tr>\n",
              "    <tr>\n",
              "      <th>1</th>\n",
              "      <td>ae4d9000002</td>\n",
              "      <td>Mountain Juniperus ashei</td>\n",
              "      <td>292</td>\n",
              "      <td>Keebler-Hilpert</td>\n",
              "      <td>$8.74</td>\n",
              "      <td>1</td>\n",
              "    </tr>\n",
              "    <tr>\n",
              "      <th>2</th>\n",
              "      <td>ae4d9000003</td>\n",
              "      <td>Dextromathorphan HBr</td>\n",
              "      <td>211</td>\n",
              "      <td>Schmitt-Weissnat</td>\n",
              "      <td>$20.53</td>\n",
              "      <td>2</td>\n",
              "    </tr>\n",
              "  </tbody>\n",
              "</table>\n",
              "</div>"
            ],
            "text/plain": [
              "            id              product_name  ...  unit_cost seria_no\n",
              "0  ae4d9000001        sildenafil citrate  ...     $10.47        0\n",
              "1  ae4d9000002  Mountain Juniperus ashei  ...      $8.74        1\n",
              "2  ae4d9000003      Dextromathorphan HBr  ...     $20.53        2\n",
              "\n",
              "[3 rows x 6 columns]"
            ]
          },
          "metadata": {
            "tags": []
          },
          "execution_count": 37
        }
      ]
    },
    {
      "cell_type": "markdown",
      "metadata": {
        "id": "VXmXfSV_sKfS",
        "colab_type": "text"
      },
      "source": [
        "### 4.2 Dataset from single dictionary"
      ]
    },
    {
      "cell_type": "code",
      "metadata": {
        "id": "F-nBxEHksKfS",
        "colab_type": "code",
        "outputId": "d71b51e5-8aaf-4287-f701-a4d1728f2abc",
        "colab": {
          "base_uri": "https://localhost:8080/",
          "height": 170
        }
      },
      "source": [
        "%%sh \n",
        "head -n 9 /content/file-samples/one_dictionary.json"
      ],
      "execution_count": 0,
      "outputs": [
        {
          "output_type": "stream",
          "text": [
            "{\"metadata\": {\"author\": \"David Oury\", \"date\": \"18 Sep 2017\"}, \n",
            " \"data\": \n",
            "\t[{ \t\n",
            "\t\t\"id\": \"ae4d9000001\", \n",
            "\t\t\"product_name\": \"sildenafil citrate\", \n",
            "\t\t\"supplier\": \"Wisozk Inc\", \n",
            "\t\t\"quantity\": 261, \n",
            "\t\t\"unit_cost\": \"$10.47\" \n",
            "\t},\n"
          ],
          "name": "stdout"
        }
      ]
    },
    {
      "cell_type": "markdown",
      "metadata": {
        "id": "zHgAIAN_sKfU",
        "colab_type": "text"
      },
      "source": [
        "The following code reads the contents of the file `one_dictionary.json` into a Python dictionary.\n",
        "\n",
        "Notice that the last command converts the dictionary `my_dict_from_file['data']` into a Pandas dataframe."
      ]
    },
    {
      "cell_type": "code",
      "metadata": {
        "id": "QNaCE-6usKfU",
        "colab_type": "code",
        "outputId": "1fc967ef-ff9a-40b4-d941-512f0595a9ea",
        "colab": {
          "base_uri": "https://localhost:8080/",
          "height": 142
        }
      },
      "source": [
        "import pandas as pd\n",
        "with open('/content/file-samples/one_dictionary.json', 'r') as infile:\n",
        "  my_dict_from_file = json.load(infile)\n",
        "my_dict_from_file\n",
        "\n",
        "pd.DataFrame(data=my_dict_from_file['data'])"
      ],
      "execution_count": 0,
      "outputs": [
        {
          "output_type": "execute_result",
          "data": {
            "text/html": [
              "<div>\n",
              "<style scoped>\n",
              "    .dataframe tbody tr th:only-of-type {\n",
              "        vertical-align: middle;\n",
              "    }\n",
              "\n",
              "    .dataframe tbody tr th {\n",
              "        vertical-align: top;\n",
              "    }\n",
              "\n",
              "    .dataframe thead th {\n",
              "        text-align: right;\n",
              "    }\n",
              "</style>\n",
              "<table border=\"1\" class=\"dataframe\">\n",
              "  <thead>\n",
              "    <tr style=\"text-align: right;\">\n",
              "      <th></th>\n",
              "      <th>id</th>\n",
              "      <th>product_name</th>\n",
              "      <th>quantity</th>\n",
              "      <th>supplier</th>\n",
              "      <th>unit_cost</th>\n",
              "    </tr>\n",
              "  </thead>\n",
              "  <tbody>\n",
              "    <tr>\n",
              "      <th>0</th>\n",
              "      <td>ae4d9000001</td>\n",
              "      <td>sildenafil citrate</td>\n",
              "      <td>261</td>\n",
              "      <td>Wisozk Inc</td>\n",
              "      <td>$10.47</td>\n",
              "    </tr>\n",
              "    <tr>\n",
              "      <th>1</th>\n",
              "      <td>ae4d9000002</td>\n",
              "      <td>Mountain Juniperus ashei</td>\n",
              "      <td>292</td>\n",
              "      <td>Keebler-Hilpert</td>\n",
              "      <td>$8.74</td>\n",
              "    </tr>\n",
              "    <tr>\n",
              "      <th>2</th>\n",
              "      <td>ae4d9000003</td>\n",
              "      <td>Dextromathorphan HBr</td>\n",
              "      <td>211</td>\n",
              "      <td>Schmitt-Weissnat</td>\n",
              "      <td>$20.53</td>\n",
              "    </tr>\n",
              "  </tbody>\n",
              "</table>\n",
              "</div>"
            ],
            "text/plain": [
              "            id              product_name  quantity          supplier unit_cost\n",
              "0  ae4d9000001        sildenafil citrate       261        Wisozk Inc    $10.47\n",
              "1  ae4d9000002  Mountain Juniperus ashei       292   Keebler-Hilpert     $8.74\n",
              "2  ae4d9000003      Dextromathorphan HBr       211  Schmitt-Weissnat    $20.53"
            ]
          },
          "metadata": {
            "tags": []
          },
          "execution_count": 39
        }
      ]
    },
    {
      "cell_type": "markdown",
      "metadata": {
        "id": "DBCHxidgsKfX",
        "colab_type": "text"
      },
      "source": [
        "### 4.3 Dataset from one JSON record per line (JSONL format)"
      ]
    },
    {
      "cell_type": "markdown",
      "metadata": {
        "id": "uJtOjgchsKfX",
        "colab_type": "text"
      },
      "source": [
        "This is a very brief introduction to the _line delimited_ JSON format. For details see\n",
        "- http://ndjson.org/\n",
        "- http://jsonlines.org/\n",
        "- [Wikipedia](https://en.wikipedia.org/wiki/JSON_streaming)\n",
        "\n",
        "The acronyms JSONL, NDJSON and LDJSON are equivalent terms and refer to a format where each line of a file contains a single JSON record which is a dictionary and describes a record of data."
      ]
    },
    {
      "cell_type": "code",
      "metadata": {
        "id": "YdBaVYSasKfY",
        "colab_type": "code",
        "outputId": "40cc8697-3fbf-4c03-a074-91a250c891ca",
        "colab": {
          "base_uri": "https://localhost:8080/",
          "height": 68
        }
      },
      "source": [
        "%%sh \n",
        "head -n 7 /content/file-samples/each_line.json"
      ],
      "execution_count": 0,
      "outputs": [
        {
          "output_type": "stream",
          "text": [
            "{ \"id\": \"ae4d9000001\", \"product_name\": \"sildenafil citrate\", \"supplier\": \"Wisozk Inc\", \"quantity\": 261, \"unit_cost\": \"$10.47\" }\n",
            "{ \"id\": \"ae4d9000002\", \"product_name\": \"Mountain Juniperus ashei\", \"supplier\": \"Keebler-Hilpert\", \"quantity\": 292, \"unit_cost\": \"$8.74\" }\n",
            "{ \"id\": \"ae4d9000003\", \"product_name\": \"Dextromathorphan HBr\", \"supplier\": \"Schmitt-Weissnat\", \"quantity\": 211, \"unit_cost\": \"$20.53\" }\n"
          ],
          "name": "stdout"
        }
      ]
    },
    {
      "cell_type": "markdown",
      "metadata": {
        "id": "U5x4uqj5sKfi",
        "colab_type": "text"
      },
      "source": [
        "This next example introduces the `jsonlines` package (from Python).\n",
        "\n",
        "The `open` function (in this package) reads a file in JSONL and returns a list of dictionaries."
      ]
    },
    {
      "cell_type": "code",
      "metadata": {
        "id": "yU4Pf-c3sKfi",
        "colab_type": "code",
        "outputId": "28daf102-a9d7-4e33-9465-303c341a47bf",
        "colab": {
          "base_uri": "https://localhost:8080/",
          "height": 272
        }
      },
      "source": [
        "import pandas as pd\n",
        "import jsonlines\n",
        "list_of_dictionaries = list(jsonlines.open(\"/content/file-samples/each_line.json\"))\n",
        "list_of_dictionaries"
      ],
      "execution_count": 0,
      "outputs": [
        {
          "output_type": "execute_result",
          "data": {
            "text/plain": [
              "[{'id': 'ae4d9000001',\n",
              "  'product_name': 'sildenafil citrate',\n",
              "  'quantity': 261,\n",
              "  'supplier': 'Wisozk Inc',\n",
              "  'unit_cost': '$10.47'},\n",
              " {'id': 'ae4d9000002',\n",
              "  'product_name': 'Mountain Juniperus ashei',\n",
              "  'quantity': 292,\n",
              "  'supplier': 'Keebler-Hilpert',\n",
              "  'unit_cost': '$8.74'},\n",
              " {'id': 'ae4d9000003',\n",
              "  'product_name': 'Dextromathorphan HBr',\n",
              "  'quantity': 211,\n",
              "  'supplier': 'Schmitt-Weissnat',\n",
              "  'unit_cost': '$20.53'}]"
            ]
          },
          "metadata": {
            "tags": []
          },
          "execution_count": 43
        }
      ]
    },
    {
      "cell_type": "code",
      "metadata": {
        "id": "vqekkd8GsKfk",
        "colab_type": "code",
        "outputId": "6ac95307-4d59-42ba-9f80-80fc7e7a512d",
        "colab": {
          "base_uri": "https://localhost:8080/",
          "height": 142
        }
      },
      "source": [
        "pdf_from_list_of_dictionaries = pd.DataFrame(data=list_of_dictionaries)\n",
        "pdf_from_list_of_dictionaries.head()"
      ],
      "execution_count": 0,
      "outputs": [
        {
          "output_type": "execute_result",
          "data": {
            "text/html": [
              "<div>\n",
              "<style scoped>\n",
              "    .dataframe tbody tr th:only-of-type {\n",
              "        vertical-align: middle;\n",
              "    }\n",
              "\n",
              "    .dataframe tbody tr th {\n",
              "        vertical-align: top;\n",
              "    }\n",
              "\n",
              "    .dataframe thead th {\n",
              "        text-align: right;\n",
              "    }\n",
              "</style>\n",
              "<table border=\"1\" class=\"dataframe\">\n",
              "  <thead>\n",
              "    <tr style=\"text-align: right;\">\n",
              "      <th></th>\n",
              "      <th>id</th>\n",
              "      <th>product_name</th>\n",
              "      <th>quantity</th>\n",
              "      <th>supplier</th>\n",
              "      <th>unit_cost</th>\n",
              "    </tr>\n",
              "  </thead>\n",
              "  <tbody>\n",
              "    <tr>\n",
              "      <th>0</th>\n",
              "      <td>ae4d9000001</td>\n",
              "      <td>sildenafil citrate</td>\n",
              "      <td>261</td>\n",
              "      <td>Wisozk Inc</td>\n",
              "      <td>$10.47</td>\n",
              "    </tr>\n",
              "    <tr>\n",
              "      <th>1</th>\n",
              "      <td>ae4d9000002</td>\n",
              "      <td>Mountain Juniperus ashei</td>\n",
              "      <td>292</td>\n",
              "      <td>Keebler-Hilpert</td>\n",
              "      <td>$8.74</td>\n",
              "    </tr>\n",
              "    <tr>\n",
              "      <th>2</th>\n",
              "      <td>ae4d9000003</td>\n",
              "      <td>Dextromathorphan HBr</td>\n",
              "      <td>211</td>\n",
              "      <td>Schmitt-Weissnat</td>\n",
              "      <td>$20.53</td>\n",
              "    </tr>\n",
              "  </tbody>\n",
              "</table>\n",
              "</div>"
            ],
            "text/plain": [
              "            id              product_name  quantity          supplier unit_cost\n",
              "0  ae4d9000001        sildenafil citrate       261        Wisozk Inc    $10.47\n",
              "1  ae4d9000002  Mountain Juniperus ashei       292   Keebler-Hilpert     $8.74\n",
              "2  ae4d9000003      Dextromathorphan HBr       211  Schmitt-Weissnat    $20.53"
            ]
          },
          "metadata": {
            "tags": []
          },
          "execution_count": 44
        }
      ]
    },
    {
      "cell_type": "code",
      "metadata": {
        "id": "enst4huEsKfr",
        "colab_type": "code",
        "outputId": "53876719-8c6a-4d89-f169-a129fdaf7ae4",
        "colab": {
          "base_uri": "https://localhost:8080/",
          "height": 187
        }
      },
      "source": [
        "pdf_from_list_of_dictionaries.info()"
      ],
      "execution_count": 0,
      "outputs": [
        {
          "output_type": "stream",
          "text": [
            "<class 'pandas.core.frame.DataFrame'>\n",
            "RangeIndex: 3 entries, 0 to 2\n",
            "Data columns (total 5 columns):\n",
            "id              3 non-null object\n",
            "product_name    3 non-null object\n",
            "quantity        3 non-null int64\n",
            "supplier        3 non-null object\n",
            "unit_cost       3 non-null object\n",
            "dtypes: int64(1), object(4)\n",
            "memory usage: 200.0+ bytes\n"
          ],
          "name": "stdout"
        }
      ]
    },
    {
      "cell_type": "markdown",
      "metadata": {
        "id": "sGubUiaysKfu",
        "colab_type": "text"
      },
      "source": [
        "__The End__"
      ]
    }
  ]
}