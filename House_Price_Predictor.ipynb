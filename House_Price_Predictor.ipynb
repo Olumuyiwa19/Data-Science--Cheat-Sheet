{
  "nbformat": 4,
  "nbformat_minor": 0,
  "metadata": {
    "colab": {
      "name": "House Price Predictor",
      "version": "0.3.2",
      "provenance": [],
      "collapsed_sections": [],
      "include_colab_link": true
    },
    "kernelspec": {
      "name": "python3",
      "display_name": "Python 3"
    }
  },
  "cells": [
    {
      "cell_type": "markdown",
      "metadata": {
        "id": "view-in-github",
        "colab_type": "text"
      },
      "source": [
        "<a href=\"https://colab.research.google.com/github/Olumuyiwa19/Data-Science--Cheat-Sheet/blob/master/House_Price_Predictor.ipynb\" target=\"_parent\"><img src=\"https://colab.research.google.com/assets/colab-badge.svg\" alt=\"Open In Colab\"/></a>"
      ]
    },
    {
      "cell_type": "code",
      "metadata": {
        "id": "HfToekFvrOqL",
        "colab_type": "code",
        "colab": {
          "base_uri": "https://localhost:8080/",
          "height": 231
        },
        "outputId": "7b179fda-995c-4e9e-f34e-39d809763160"
      },
      "source": [
        "import csv\n",
        "import numpy\n",
        "def _read_csv(file_name):\n",
        "  house_list = []\n",
        "with open(file_name, 'r') as f:\n",
        "  reader = csv.DictReader(f)\n",
        "for house in reader:\n",
        "  house_list.append((house['price'], house['bd'], house['sqft'], house['date'].split('/')[-1]))\n",
        "return house_list\n",
        "def _filter_by_bd(houses, min, max):\n",
        "  house_list = []\n",
        "for price, bd, sqft, year in houses:\n",
        "  for num in range(min, max+1):\n",
        "    if str(num)+'bd' == bd:\n",
        "      house_list.append((price, bd, sqft, year))\n",
        "return house_list\n",
        "def _filter_by_year(houses):\n",
        "  house_dict = {}\n",
        "for bd, sqft, price, year in houses:\n",
        "  house_dict.setdefault(str(year), []).append((bd, sqft, price))\n",
        "return house_dict\n",
        "\n",
        "## SCRIPT begins\n",
        "house_list = _read_csv('seattle_w_header.csv')\n",
        "print ('There are a total of', len(house_list), 'houses sold.')\n",
        "house_by_year_dict = _filter_by_year(house_list)\n",
        "print ('houses sold in 2019:', len(house_by_year_dict['2019']))\n",
        "print ('houses sold in 2018:', len(house_by_year_dict['2018']))\n",
        "min = 0\n",
        "max = 10\n",
        "filter_house = _filter_by_bd(house_list, min, max)\n",
        "print (min, 'to', max, 'bedrooms:', len(filter_house))\n",
        "for i in range(min, max+1):\n",
        "  bedroom = _filter_by_bd(filter_house, i, i)\n",
        "  price_list = []\n",
        "for price, bd, sqft, year in bedroom:\n",
        "  try:\n",
        "    price_list.append(int(price))\n",
        "  except:\n",
        "    pass\n",
        "arr = numpy.array(price_list, dtype='int')\n",
        "print (str(i) + ' bedrooms:', len(price_list))\n",
        "print ('mean', arr.mean(), '\\tmedian', numpy.median(arr), '\\tmin', numpy.min(arr), '\\tmax', numpy.max(arr))\n",
        "print ('')"
      ],
      "execution_count": 14,
      "outputs": [
        {
          "output_type": "error",
          "ename": "NameError",
          "evalue": "ignored",
          "traceback": [
            "\u001b[0;31m---------------------------------------------------------------------------\u001b[0m",
            "\u001b[0;31mNameError\u001b[0m                                 Traceback (most recent call last)",
            "\u001b[0;32m<ipython-input-14-4453f4c56a2c>\u001b[0m in \u001b[0;36m<module>\u001b[0;34m()\u001b[0m\n\u001b[1;32m      3\u001b[0m \u001b[0;32mdef\u001b[0m \u001b[0m_read_csv\u001b[0m\u001b[0;34m(\u001b[0m\u001b[0mfile_name\u001b[0m\u001b[0;34m)\u001b[0m\u001b[0;34m:\u001b[0m\u001b[0;34m\u001b[0m\u001b[0;34m\u001b[0m\u001b[0m\n\u001b[1;32m      4\u001b[0m   \u001b[0mhouse_list\u001b[0m \u001b[0;34m=\u001b[0m \u001b[0;34m[\u001b[0m\u001b[0;34m]\u001b[0m\u001b[0;34m\u001b[0m\u001b[0;34m\u001b[0m\u001b[0m\n\u001b[0;32m----> 5\u001b[0;31m \u001b[0;32mwith\u001b[0m \u001b[0mopen\u001b[0m\u001b[0;34m(\u001b[0m\u001b[0mfile_name\u001b[0m\u001b[0;34m,\u001b[0m \u001b[0;34m'r'\u001b[0m\u001b[0;34m)\u001b[0m \u001b[0;32mas\u001b[0m \u001b[0mf\u001b[0m\u001b[0;34m:\u001b[0m\u001b[0;34m\u001b[0m\u001b[0;34m\u001b[0m\u001b[0m\n\u001b[0m\u001b[1;32m      6\u001b[0m   \u001b[0mreader\u001b[0m \u001b[0;34m=\u001b[0m \u001b[0mcsv\u001b[0m\u001b[0;34m.\u001b[0m\u001b[0mDictReader\u001b[0m\u001b[0;34m(\u001b[0m\u001b[0mf\u001b[0m\u001b[0;34m)\u001b[0m\u001b[0;34m\u001b[0m\u001b[0;34m\u001b[0m\u001b[0m\n\u001b[1;32m      7\u001b[0m \u001b[0;32mfor\u001b[0m \u001b[0mhouse\u001b[0m \u001b[0;32min\u001b[0m \u001b[0mreader\u001b[0m\u001b[0;34m:\u001b[0m\u001b[0;34m\u001b[0m\u001b[0;34m\u001b[0m\u001b[0m\n",
            "\u001b[0;31mNameError\u001b[0m: name 'file_name' is not defined"
          ]
        }
      ]
    },
    {
      "cell_type": "code",
      "metadata": {
        "id": "RU-ssfZnDpsv",
        "colab_type": "code",
        "colab": {}
      },
      "source": [
        ""
      ],
      "execution_count": 0,
      "outputs": []
    }
  ]
}