{
  "nbformat": 4,
  "nbformat_minor": 0,
  "metadata": {
    "name": "3.1 Functions",
    "notebookId": 90341,
    "colab": {
      "name": "Copy of 3.1 Functions.ipynb",
      "version": "0.3.2",
      "provenance": [],
      "include_colab_link": true
    },
    "kernelspec": {
      "name": "python3",
      "display_name": "Python 3"
    }
  },
  "cells": [
    {
      "cell_type": "markdown",
      "metadata": {
        "id": "view-in-github",
        "colab_type": "text"
      },
      "source": [
        "<a href=\"https://colab.research.google.com/github/Olumuyiwa19/Data-Science--Cheat-Sheet/blob/master/Copy_of_3_1_Functions.ipynb\" target=\"_parent\"><img src=\"https://colab.research.google.com/assets/colab-badge.svg\" alt=\"Open In Colab\"/></a>"
      ]
    },
    {
      "cell_type": "markdown",
      "metadata": {
        "id": "Go6iVR0uZ2cM",
        "colab_type": "text"
      },
      "source": [
        "# Functions"
      ]
    },
    {
      "cell_type": "markdown",
      "metadata": {
        "id": "CFB-G26OZ2cU",
        "colab_type": "text"
      },
      "source": [
        "## Table of Contents\n",
        "\n",
        "1. Creating functions\n",
        "1. Default parameters\n",
        "1. Help on functions"
      ]
    },
    {
      "cell_type": "markdown",
      "metadata": {
        "id": "MEjK90eQZ2cX",
        "colab_type": "text"
      },
      "source": [
        "## 1. Creating Functions"
      ]
    },
    {
      "cell_type": "markdown",
      "metadata": {
        "id": "HtTHY-MdZ2ca",
        "colab_type": "text"
      },
      "source": [
        "Functions have\n",
        "- Input parameters\n",
        "- Output results\n",
        "- One or more commands that are run when the function is called\n",
        "\n",
        "Functions can be created in two ways (in Python.)\n",
        "1. Using the `def` keyword\n",
        "1. Using the `lambda` keyword"
      ]
    },
    {
      "cell_type": "markdown",
      "metadata": {
        "id": "RTCe29_mZ2cc",
        "colab_type": "text"
      },
      "source": [
        "### 1.1 Keyword `def`"
      ]
    },
    {
      "cell_type": "markdown",
      "metadata": {
        "id": "oPukdABUZ2cf",
        "colab_type": "text"
      },
      "source": [
        "First create a function that contains a single command."
      ]
    },
    {
      "cell_type": "code",
      "metadata": {
        "id": "IqJ7cqoiZ2ci",
        "colab_type": "code",
        "colab": {}
      },
      "source": [
        "def plus_1(x):\n",
        "  return(x+1)\n"
      ],
      "execution_count": 0,
      "outputs": []
    },
    {
      "cell_type": "code",
      "metadata": {
        "id": "Rb0U3qNcZ2cw",
        "colab_type": "code",
        "outputId": "fe3ec2f7-9ec8-491e-b3b2-d6d08cc6b4b1",
        "colab": {
          "base_uri": "https://localhost:8080/",
          "height": 34
        }
      },
      "source": [
        "plus_1(2)"
      ],
      "execution_count": 2,
      "outputs": [
        {
          "output_type": "execute_result",
          "data": {
            "text/plain": [
              "3"
            ]
          },
          "metadata": {
            "tags": []
          },
          "execution_count": 2
        }
      ]
    },
    {
      "cell_type": "markdown",
      "metadata": {
        "id": "fGCVuwLaZ2c6",
        "colab_type": "text"
      },
      "source": [
        "Now create a function with a sequence of commands. \n",
        "\n",
        "The commands listed after the first line must be identically indented, otherwise you will get an error."
      ]
    },
    {
      "cell_type": "code",
      "metadata": {
        "id": "S3XEbOutZ2c9",
        "colab_type": "code",
        "colab": {}
      },
      "source": [
        "def multi_line_function(input1, input2): \n",
        "  input1.reverse()\n",
        "  input2 = 2\n",
        "  return(input1 * input2)"
      ],
      "execution_count": 0,
      "outputs": []
    },
    {
      "cell_type": "code",
      "metadata": {
        "id": "8S-68lJnZ2dJ",
        "colab_type": "code",
        "outputId": "57e7c4d4-08b5-421e-d7d5-3dd159e7d5fc",
        "colab": {
          "base_uri": "https://localhost:8080/",
          "height": 34
        }
      },
      "source": [
        "multi_line_function(['a','b'],3)"
      ],
      "execution_count": 26,
      "outputs": [
        {
          "output_type": "execute_result",
          "data": {
            "text/plain": [
              "['b', 'a', 'b', 'a']"
            ]
          },
          "metadata": {
            "tags": []
          },
          "execution_count": 26
        }
      ]
    },
    {
      "cell_type": "markdown",
      "metadata": {
        "id": "i-IXSlJ5Z2dR",
        "colab_type": "text"
      },
      "source": [
        "__Exercise__: Explain why the function only returns a list with two (reversed) copies of the first parameter (not three.)"
      ]
    },
    {
      "cell_type": "markdown",
      "metadata": {
        "id": "T6aditqiZ2dU",
        "colab_type": "text"
      },
      "source": [
        "Function parameters are new names for the input values. \n",
        "\n",
        "Study the next three code blocks and their output."
      ]
    },
    {
      "cell_type": "code",
      "metadata": {
        "id": "kPuHCvWDZ2dW",
        "colab_type": "code",
        "outputId": "b16fe319-3e94-421d-f1f1-198f07f6319b",
        "colab": {
          "base_uri": "https://localhost:8080/",
          "height": 34
        }
      },
      "source": [
        "test1 = ['a', 'b']\n",
        "test2 = 9\n",
        "multi_line_function(test1, test2)"
      ],
      "execution_count": 27,
      "outputs": [
        {
          "output_type": "execute_result",
          "data": {
            "text/plain": [
              "['b', 'a', 'b', 'a']"
            ]
          },
          "metadata": {
            "tags": []
          },
          "execution_count": 27
        }
      ]
    },
    {
      "cell_type": "markdown",
      "metadata": {
        "id": "7FHKtIvvZ2dg",
        "colab_type": "text"
      },
      "source": [
        "Notice that the contents of the `test1` variable was changed by the function."
      ]
    },
    {
      "cell_type": "code",
      "metadata": {
        "id": "1KJyaGCoZ2di",
        "colab_type": "code",
        "outputId": "36d324e8-8113-40bf-aeab-1f62905ae4b0",
        "colab": {
          "base_uri": "https://localhost:8080/",
          "height": 34
        }
      },
      "source": [
        "test1"
      ],
      "execution_count": 28,
      "outputs": [
        {
          "output_type": "execute_result",
          "data": {
            "text/plain": [
              "['b', 'a']"
            ]
          },
          "metadata": {
            "tags": []
          },
          "execution_count": 28
        }
      ]
    },
    {
      "cell_type": "markdown",
      "metadata": {
        "id": "D4AoEVovZ2ds",
        "colab_type": "text"
      },
      "source": [
        "Notice that the contents of the `test2` variable was __not__ changed by the function."
      ]
    },
    {
      "cell_type": "code",
      "metadata": {
        "id": "sCeSHi_pZ2du",
        "colab_type": "code",
        "outputId": "cb927707-9397-4a9d-ee9b-92300f364eb6",
        "colab": {
          "base_uri": "https://localhost:8080/",
          "height": 34
        }
      },
      "source": [
        "test2"
      ],
      "execution_count": 29,
      "outputs": [
        {
          "output_type": "execute_result",
          "data": {
            "text/plain": [
              "9"
            ]
          },
          "metadata": {
            "tags": []
          },
          "execution_count": 29
        }
      ]
    },
    {
      "cell_type": "markdown",
      "metadata": {
        "id": "VZPjvKJyZ2d4",
        "colab_type": "text"
      },
      "source": [
        "Explain Spock.\n",
        "1. Function parameters are new names for the input values. For each parameter we have one value with two names. \n",
        "1. An assignment statement first creates a new object from the expression to the right of the `=`. Then it points the name (found to the left of the `=`) to the newly created object. This process won't change the object stored in a variable outside the function.\n",
        "1. When the object pointed to by a parameter is modified or changed, the input variable and parameter variable both point to that same __changed__ object."
      ]
    },
    {
      "cell_type": "markdown",
      "metadata": {
        "id": "ZGb3NEG5Z2d7",
        "colab_type": "text"
      },
      "source": [
        "### 1.2 Keyword `lambda`"
      ]
    },
    {
      "cell_type": "markdown",
      "metadata": {
        "id": "_klbl5KEZ2d-",
        "colab_type": "text"
      },
      "source": [
        "The `lambda` function creates functions which consist of a single command. The entire `lambda` command is written on one line. \n",
        "\n",
        "These functions can be stored in a variable (see next cell) or passed to another function (see further below.)"
      ]
    },
    {
      "cell_type": "code",
      "metadata": {
        "id": "z5Ut6_DYZ2eB",
        "colab_type": "code",
        "colab": {}
      },
      "source": [
        "times_2 = lambda x: 2*x\n",
        "times_3 = lambda x: 3*x"
      ],
      "execution_count": 0,
      "outputs": []
    },
    {
      "cell_type": "code",
      "metadata": {
        "id": "xejxTIp-Z2eI",
        "colab_type": "code",
        "outputId": "2e28bd30-a631-4360-bbfa-0641a0148e75",
        "colab": {
          "base_uri": "https://localhost:8080/",
          "height": 34
        }
      },
      "source": [
        "times_2(3)\n"
      ],
      "execution_count": 35,
      "outputs": [
        {
          "output_type": "execute_result",
          "data": {
            "text/plain": [
              "6"
            ]
          },
          "metadata": {
            "tags": []
          },
          "execution_count": 35
        }
      ]
    },
    {
      "cell_type": "markdown",
      "metadata": {
        "id": "uDsdrF76Z2eP",
        "colab_type": "text"
      },
      "source": [
        "The `myapply` function (below) takes two parameters:\n",
        "- The first parameter should be a function. \n",
        "- The second parameter is used as input to the function (which is the first parameter.)"
      ]
    },
    {
      "cell_type": "code",
      "metadata": {
        "id": "wU28bc61Z2eS",
        "colab_type": "code",
        "colab": {}
      },
      "source": [
        "my_apply = lambda myFunc, myNumber: myFunc(myNumber)"
      ],
      "execution_count": 0,
      "outputs": []
    },
    {
      "cell_type": "code",
      "metadata": {
        "id": "C-IJIUQsZ2eZ",
        "colab_type": "code",
        "outputId": "0eaabc6c-c082-4aae-9caf-09fb13bfc910",
        "colab": {
          "base_uri": "https://localhost:8080/",
          "height": 34
        }
      },
      "source": [
        "my_apply(times_2, 10)"
      ],
      "execution_count": 40,
      "outputs": [
        {
          "output_type": "execute_result",
          "data": {
            "text/plain": [
              "20"
            ]
          },
          "metadata": {
            "tags": []
          },
          "execution_count": 40
        }
      ]
    },
    {
      "cell_type": "code",
      "metadata": {
        "id": "ZO5wgcakZ2eg",
        "colab_type": "code",
        "outputId": "b55aadd9-f676-40aa-f915-c8c970c9f3ee",
        "colab": {
          "base_uri": "https://localhost:8080/",
          "height": 34
        }
      },
      "source": [
        "times_2(10)"
      ],
      "execution_count": 39,
      "outputs": [
        {
          "output_type": "execute_result",
          "data": {
            "text/plain": [
              "20"
            ]
          },
          "metadata": {
            "tags": []
          },
          "execution_count": 39
        }
      ]
    },
    {
      "cell_type": "code",
      "metadata": {
        "id": "6mvWd_cpZ2es",
        "colab_type": "code",
        "outputId": "d9b00651-74f8-4038-86a8-7d1f1e3a2978",
        "colab": {
          "base_uri": "https://localhost:8080/",
          "height": 34
        }
      },
      "source": [
        "my_apply(times_3, 1000)"
      ],
      "execution_count": 41,
      "outputs": [
        {
          "output_type": "execute_result",
          "data": {
            "text/plain": [
              "3000"
            ]
          },
          "metadata": {
            "tags": []
          },
          "execution_count": 41
        }
      ]
    },
    {
      "cell_type": "code",
      "metadata": {
        "id": "DaKwNF_oZ2ey",
        "colab_type": "code",
        "outputId": "28753301-91db-4b67-b7f8-633f62519ea2",
        "colab": {
          "base_uri": "https://localhost:8080/",
          "height": 34
        }
      },
      "source": [
        "my_apply(lambda x: 4*x, 3)"
      ],
      "execution_count": 43,
      "outputs": [
        {
          "output_type": "execute_result",
          "data": {
            "text/plain": [
              "12"
            ]
          },
          "metadata": {
            "tags": []
          },
          "execution_count": 43
        }
      ]
    },
    {
      "cell_type": "markdown",
      "metadata": {
        "id": "dP222fUgZ2e5",
        "colab_type": "text"
      },
      "source": [
        "__Exercise__: \n",
        "- Create a function `add` which has two inputs and returns their sum. Use the function to demonstrate that it works.\n",
        "- Create a function `times` which has two inputs and returns their product. Use the function to demonstrate that it works.\n",
        "- Create a function `apply` which has three inputs and returns the result of the first parameter, \n",
        "which is a function with two parameters, with inputs from the second and third parameters. \n",
        "Use the function to demonstrate that it works. \n",
        "\n",
        "For example, demonstrate that `apply(add,2,3)` returns `5` and `apply(times,2,3)` returns `6`."
      ]
    },
    {
      "cell_type": "markdown",
      "metadata": {
        "id": "wwtnOyGFZ2e7",
        "colab_type": "text"
      },
      "source": [
        "### Default Parameters\n",
        "\n",
        "Many Python functions, for instance `sorted`, have optional/default parameters."
      ]
    },
    {
      "cell_type": "code",
      "metadata": {
        "id": "rJgH7UgPZ2e9",
        "colab_type": "code",
        "outputId": "4f2bbb27-24e8-42d1-b8bf-e44f0342fedf",
        "colab": {
          "base_uri": "https://localhost:8080/",
          "height": 34
        }
      },
      "source": [
        "sorted([4,3,9])"
      ],
      "execution_count": 44,
      "outputs": [
        {
          "output_type": "execute_result",
          "data": {
            "text/plain": [
              "[3, 4, 9]"
            ]
          },
          "metadata": {
            "tags": []
          },
          "execution_count": 44
        }
      ]
    },
    {
      "cell_type": "code",
      "metadata": {
        "id": "IN-5gNREZ2fG",
        "colab_type": "code",
        "outputId": "09e4babd-8eba-491a-e3e4-4e2fce551b5f",
        "colab": {
          "base_uri": "https://localhost:8080/",
          "height": 34
        }
      },
      "source": [
        "sorted([4,3,9], reverse=False)"
      ],
      "execution_count": 45,
      "outputs": [
        {
          "output_type": "execute_result",
          "data": {
            "text/plain": [
              "[3, 4, 9]"
            ]
          },
          "metadata": {
            "tags": []
          },
          "execution_count": 45
        }
      ]
    },
    {
      "cell_type": "code",
      "metadata": {
        "id": "vYG_ya71Z2fb",
        "colab_type": "code",
        "outputId": "ab02ca8d-daa8-4ae0-df71-acdd45eb1210",
        "colab": {
          "base_uri": "https://localhost:8080/",
          "height": 34
        }
      },
      "source": [
        "sorted([4,3,9], reverse=True)"
      ],
      "execution_count": 46,
      "outputs": [
        {
          "output_type": "execute_result",
          "data": {
            "text/plain": [
              "[9, 4, 3]"
            ]
          },
          "metadata": {
            "tags": []
          },
          "execution_count": 46
        }
      ]
    },
    {
      "cell_type": "markdown",
      "metadata": {
        "id": "T1llBR4AZ2fi",
        "colab_type": "text"
      },
      "source": [
        "__Exercises:__ Create a function named `optfun` with a single parameter with default value `2` that returns `10` times the value of the first parameter. \n",
        "\n",
        "Demonstrate that `optfun()` returns `20` and `optfun(3)` returns `30`."
      ]
    },
    {
      "cell_type": "markdown",
      "metadata": {
        "id": "NVmA2_LxZ2fk",
        "colab_type": "text"
      },
      "source": [
        "## 3. Help on Functions"
      ]
    },
    {
      "cell_type": "markdown",
      "metadata": {
        "id": "3_cExW6uZ2fp",
        "colab_type": "text"
      },
      "source": [
        "Documentation for most functions that come with Python or with imported libraries is available from the `help` function."
      ]
    },
    {
      "cell_type": "code",
      "metadata": {
        "id": "Sll5ky_BZ2fr",
        "colab_type": "code",
        "outputId": "eba30856-cb15-46ef-e8d3-86990a5bffb8",
        "colab": {
          "base_uri": "https://localhost:8080/",
          "height": 102
        }
      },
      "source": [
        "help(len)"
      ],
      "execution_count": 47,
      "outputs": [
        {
          "output_type": "stream",
          "text": [
            "Help on built-in function len in module builtins:\n",
            "\n",
            "len(obj, /)\n",
            "    Return the number of items in a container.\n",
            "\n"
          ],
          "name": "stdout"
        }
      ]
    },
    {
      "cell_type": "code",
      "metadata": {
        "id": "SzrbMGchZ2fy",
        "colab_type": "code",
        "outputId": "9f7dd05b-4282-45d1-92af-645d2d69c29d",
        "colab": {
          "base_uri": "https://localhost:8080/",
          "height": 153
        }
      },
      "source": [
        "help(sorted)"
      ],
      "execution_count": 48,
      "outputs": [
        {
          "output_type": "stream",
          "text": [
            "Help on built-in function sorted in module builtins:\n",
            "\n",
            "sorted(iterable, /, *, key=None, reverse=False)\n",
            "    Return a new list containing all items from the iterable in ascending order.\n",
            "    \n",
            "    A custom key function can be supplied to customize the sort order, and the\n",
            "    reverse flag can be set to request the result in descending order.\n",
            "\n"
          ],
          "name": "stdout"
        }
      ]
    },
    {
      "cell_type": "markdown",
      "metadata": {
        "id": "LCGilBYrZ2f5",
        "colab_type": "text"
      },
      "source": [
        "__The End__"
      ]
    }
  ]
}